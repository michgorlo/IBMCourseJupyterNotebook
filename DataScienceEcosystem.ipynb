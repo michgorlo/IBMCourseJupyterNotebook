{
 "cells": [
  {
   "cell_type": "markdown",
   "id": "96a722ed-2a4b-4402-b1b9-3b33a678a09a",
   "metadata": {},
   "source": [
    "# Data Science Tools and Ecosystem"
   ]
  },
  {
   "cell_type": "markdown",
   "id": "91beab86-b4a2-4b5c-8e33-6aad1168ba7a",
   "metadata": {},
   "source": [
    "In this notebook, Data Science Tools and Ecosystem are summarized."
   ]
  },
  {
   "cell_type": "markdown",
   "id": "b534e68b-c51d-4319-9506-1ebbb46eca77",
   "metadata": {},
   "source": [
    "**Objectives:**\n",
    "* List popular languages for Data Science\n",
    "* List popular libraries for Data Science\n",
    "* List popular tools for Data Science"
   ]
  },
  {
   "cell_type": "markdown",
   "id": "f3a83a09-b3a2-4ac0-ade8-c72ae453a1b9",
   "metadata": {},
   "source": [
    "## Author\n",
    "Mikhail Gorlo"
   ]
  },
  {
   "cell_type": "markdown",
   "id": "2cb3cf45-938c-429d-a6e9-dab9bdbfbe18",
   "metadata": {},
   "source": [
    "Some of the popular languages that Data Scientists use are:\n",
    "\n",
    "1. Python\n",
    "2. SQL\n",
    "3. R\n",
    "4. Julia\n",
    "5. Scala"
   ]
  },
  {
   "cell_type": "markdown",
   "id": "420bf766-ab15-4398-8fe0-de6345a940fb",
   "metadata": {},
   "source": [
    "Some of the commonly used libraries used by Data Scientists include:\n",
    "1. NumPy\n",
    "2. Pandas\n",
    "3. Plotly\n",
    "4. ggplot2\n",
    "5. TensorFlow"
   ]
  },
  {
   "cell_type": "markdown",
   "id": "f10bbc92-cf9d-472d-8a6c-af038f2f062c",
   "metadata": {},
   "source": [
    "| Data Science Tools |\n",
    "| --- |\n",
    "| IBM DB2 |\n",
    "| Hadoop |\n",
    "| Apache Superset |"
   ]
  },
  {
   "cell_type": "markdown",
   "id": "b17a330f-95ff-4912-8868-dd8d4a0c0c39",
   "metadata": {},
   "source": [
    "### Below are a few example of evaluating arithmetic expressions in Python"
   ]
  },
  {
   "cell_type": "code",
   "execution_count": 5,
   "id": "f148c189-eac1-47d0-8664-00d4b7b2fe4e",
   "metadata": {},
   "outputs": [
    {
     "data": {
      "text/plain": [
       "17"
      ]
     },
     "execution_count": 5,
     "metadata": {},
     "output_type": "execute_result"
    }
   ],
   "source": [
    "# This a simple arithmetic expression to multiply then add integers\n",
    "(3 * 4) + 5"
   ]
  },
  {
   "cell_type": "code",
   "execution_count": 8,
   "id": "21f9d61e-c5c7-4d49-9af6-c98ced212e91",
   "metadata": {},
   "outputs": [
    {
     "data": {
      "text/plain": [
       "3.3333333333333335"
      ]
     },
     "execution_count": 8,
     "metadata": {},
     "output_type": "execute_result"
    }
   ],
   "source": [
    "# This will convert 200 minutes to hours by dividing by 60\n",
    "\n",
    "200 / 60"
   ]
  }
 ],
 "metadata": {
  "kernelspec": {
   "display_name": "Python [conda env:base] *",
   "language": "python",
   "name": "conda-base-py"
  },
  "language_info": {
   "codemirror_mode": {
    "name": "ipython",
    "version": 3
   },
   "file_extension": ".py",
   "mimetype": "text/x-python",
   "name": "python",
   "nbconvert_exporter": "python",
   "pygments_lexer": "ipython3",
   "version": "3.12.7"
  }
 },
 "nbformat": 4,
 "nbformat_minor": 5
}
